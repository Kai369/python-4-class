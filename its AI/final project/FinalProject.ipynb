{
 "cells": [
  {
   "cell_type": "markdown",
   "metadata": {},
   "source": [
    "This is my final project.\n",
    "The goal is to take a table of data on a lot of contrys and use it to predict a countrys co2 output at a given time. \n"
   ]
  },
  {
   "cell_type": "code",
   "execution_count": 313,
   "metadata": {},
   "outputs": [
    {
     "data": {
      "text/html": [
       "<div>\n",
       "<style scoped>\n",
       "    .dataframe tbody tr th:only-of-type {\n",
       "        vertical-align: middle;\n",
       "    }\n",
       "\n",
       "    .dataframe tbody tr th {\n",
       "        vertical-align: top;\n",
       "    }\n",
       "\n",
       "    .dataframe thead th {\n",
       "        text-align: right;\n",
       "    }\n",
       "</style>\n",
       "<table border=\"1\" class=\"dataframe\">\n",
       "  <thead>\n",
       "    <tr style=\"text-align: right;\">\n",
       "      <th></th>\n",
       "      <th>Unnamed: 0</th>\n",
       "      <th>Country</th>\n",
       "      <th>Energy_type</th>\n",
       "      <th>Year</th>\n",
       "      <th>Energy_consumption</th>\n",
       "      <th>Energy_production</th>\n",
       "      <th>GDP</th>\n",
       "      <th>Population</th>\n",
       "      <th>Energy_intensity_per_capita</th>\n",
       "      <th>Energy_intensity_by_GDP</th>\n",
       "      <th>CO2_emission</th>\n",
       "    </tr>\n",
       "  </thead>\n",
       "  <tbody>\n",
       "    <tr>\n",
       "      <th>0</th>\n",
       "      <td>0</td>\n",
       "      <td>World</td>\n",
       "      <td>all_energy_types</td>\n",
       "      <td>1980</td>\n",
       "      <td>292.899790</td>\n",
       "      <td>296.337228</td>\n",
       "      <td>27770.910281</td>\n",
       "      <td>4.298127e+06</td>\n",
       "      <td>68.145921</td>\n",
       "      <td>10.547</td>\n",
       "      <td>4946.627130</td>\n",
       "    </tr>\n",
       "    <tr>\n",
       "      <th>1</th>\n",
       "      <td>1</td>\n",
       "      <td>World</td>\n",
       "      <td>coal</td>\n",
       "      <td>1980</td>\n",
       "      <td>78.656134</td>\n",
       "      <td>80.114194</td>\n",
       "      <td>27770.910281</td>\n",
       "      <td>4.298127e+06</td>\n",
       "      <td>68.145921</td>\n",
       "      <td>10.547</td>\n",
       "      <td>1409.790188</td>\n",
       "    </tr>\n",
       "    <tr>\n",
       "      <th>2</th>\n",
       "      <td>2</td>\n",
       "      <td>World</td>\n",
       "      <td>natural_gas</td>\n",
       "      <td>1980</td>\n",
       "      <td>53.865223</td>\n",
       "      <td>54.761046</td>\n",
       "      <td>27770.910281</td>\n",
       "      <td>4.298127e+06</td>\n",
       "      <td>68.145921</td>\n",
       "      <td>10.547</td>\n",
       "      <td>1081.593377</td>\n",
       "    </tr>\n",
       "    <tr>\n",
       "      <th>3</th>\n",
       "      <td>3</td>\n",
       "      <td>World</td>\n",
       "      <td>petroleum_n_other_liquids</td>\n",
       "      <td>1980</td>\n",
       "      <td>132.064019</td>\n",
       "      <td>133.111109</td>\n",
       "      <td>27770.910281</td>\n",
       "      <td>4.298127e+06</td>\n",
       "      <td>68.145921</td>\n",
       "      <td>10.547</td>\n",
       "      <td>2455.243565</td>\n",
       "    </tr>\n",
       "    <tr>\n",
       "      <th>4</th>\n",
       "      <td>4</td>\n",
       "      <td>World</td>\n",
       "      <td>nuclear</td>\n",
       "      <td>1980</td>\n",
       "      <td>7.575700</td>\n",
       "      <td>7.575700</td>\n",
       "      <td>27770.910281</td>\n",
       "      <td>4.298127e+06</td>\n",
       "      <td>68.145921</td>\n",
       "      <td>10.547</td>\n",
       "      <td>0.000000</td>\n",
       "    </tr>\n",
       "    <tr>\n",
       "      <th>5</th>\n",
       "      <td>5</td>\n",
       "      <td>World</td>\n",
       "      <td>renewables_n_other</td>\n",
       "      <td>1980</td>\n",
       "      <td>20.702344</td>\n",
       "      <td>20.775178</td>\n",
       "      <td>27770.910281</td>\n",
       "      <td>4.298127e+06</td>\n",
       "      <td>68.145921</td>\n",
       "      <td>10.547</td>\n",
       "      <td>0.000000</td>\n",
       "    </tr>\n",
       "    <tr>\n",
       "      <th>6</th>\n",
       "      <td>6</td>\n",
       "      <td>Afghanistan</td>\n",
       "      <td>all_energy_types</td>\n",
       "      <td>1980</td>\n",
       "      <td>0.026583</td>\n",
       "      <td>0.072561</td>\n",
       "      <td>NaN</td>\n",
       "      <td>1.335650e+04</td>\n",
       "      <td>1.990283</td>\n",
       "      <td>0.000</td>\n",
       "      <td>NaN</td>\n",
       "    </tr>\n",
       "  </tbody>\n",
       "</table>\n",
       "</div>"
      ],
      "text/plain": [
       "   Unnamed: 0      Country                Energy_type  Year  \\\n",
       "0           0        World           all_energy_types  1980   \n",
       "1           1        World                       coal  1980   \n",
       "2           2        World                natural_gas  1980   \n",
       "3           3        World  petroleum_n_other_liquids  1980   \n",
       "4           4        World                    nuclear  1980   \n",
       "5           5        World         renewables_n_other  1980   \n",
       "6           6  Afghanistan           all_energy_types  1980   \n",
       "\n",
       "   Energy_consumption  Energy_production           GDP    Population  \\\n",
       "0          292.899790         296.337228  27770.910281  4.298127e+06   \n",
       "1           78.656134          80.114194  27770.910281  4.298127e+06   \n",
       "2           53.865223          54.761046  27770.910281  4.298127e+06   \n",
       "3          132.064019         133.111109  27770.910281  4.298127e+06   \n",
       "4            7.575700           7.575700  27770.910281  4.298127e+06   \n",
       "5           20.702344          20.775178  27770.910281  4.298127e+06   \n",
       "6            0.026583           0.072561           NaN  1.335650e+04   \n",
       "\n",
       "   Energy_intensity_per_capita  Energy_intensity_by_GDP  CO2_emission  \n",
       "0                    68.145921                   10.547   4946.627130  \n",
       "1                    68.145921                   10.547   1409.790188  \n",
       "2                    68.145921                   10.547   1081.593377  \n",
       "3                    68.145921                   10.547   2455.243565  \n",
       "4                    68.145921                   10.547      0.000000  \n",
       "5                    68.145921                   10.547      0.000000  \n",
       "6                     1.990283                    0.000           NaN  "
      ]
     },
     "execution_count": 313,
     "metadata": {},
     "output_type": "execute_result"
    }
   ],
   "source": [
    "import matplotlib.pyplot as plt\n",
    "import pandas as pd\n",
    "import pylab as pl\n",
    "import numpy as np\n",
    "from sklearn import linear_model\n",
    "DF = pd.read_csv(\"energy.csv\")\n",
    "DF.head(7)\n"
   ]
  },
  {
   "cell_type": "markdown",
   "metadata": {},
   "source": [
    "So im going to creat a model that takes the Energg type, year, gdp population and trys to predict the Energy consumption. "
   ]
  },
  {
   "cell_type": "markdown",
   "metadata": {},
   "source": []
  },
  {
   "cell_type": "code",
   "execution_count": 314,
   "metadata": {},
   "outputs": [
    {
     "name": "stdout",
     "output_type": "stream",
     "text": [
      "[55440, 11]\n",
      "<class 'int'>\n"
     ]
    }
   ],
   "source": [
    "tolist = DF.shape\n",
    "DFlist = list(tolist)\n",
    "print(DFlist)\n",
    "rowsofdata = DFlist[0]\n",
    "print(type(rowsofdata))"
   ]
  },
  {
   "cell_type": "code",
   "execution_count": null,
   "metadata": {},
   "outputs": [],
   "source": []
  },
  {
   "cell_type": "code",
   "execution_count": 315,
   "metadata": {},
   "outputs": [
    {
     "name": "stdout",
     "output_type": "stream",
     "text": [
      "0                 all_energy_types\n",
      "1                             coal\n",
      "2                      natural_gas\n",
      "3        petroleum_n_other_liquids\n",
      "4                          nuclear\n",
      "                   ...            \n",
      "55435                         coal\n",
      "55436                  natural_gas\n",
      "55437    petroleum_n_other_liquids\n",
      "55438                      nuclear\n",
      "55439           renewables_n_other\n",
      "Name: Energy_type, Length: 55440, dtype: object\n"
     ]
    },
    {
     "data": {
      "text/html": [
       "<div>\n",
       "<style scoped>\n",
       "    .dataframe tbody tr th:only-of-type {\n",
       "        vertical-align: middle;\n",
       "    }\n",
       "\n",
       "    .dataframe tbody tr th {\n",
       "        vertical-align: top;\n",
       "    }\n",
       "\n",
       "    .dataframe thead th {\n",
       "        text-align: right;\n",
       "    }\n",
       "</style>\n",
       "<table border=\"1\" class=\"dataframe\">\n",
       "  <thead>\n",
       "    <tr style=\"text-align: right;\">\n",
       "      <th></th>\n",
       "      <th>Energy_type</th>\n",
       "      <th>Year</th>\n",
       "      <th>Energy_consumption</th>\n",
       "      <th>GDP</th>\n",
       "      <th>Population</th>\n",
       "    </tr>\n",
       "  </thead>\n",
       "  <tbody>\n",
       "    <tr>\n",
       "      <th>0</th>\n",
       "      <td>all_energy_types</td>\n",
       "      <td>1980</td>\n",
       "      <td>292.899790</td>\n",
       "      <td>27770.910281</td>\n",
       "      <td>4.298127e+06</td>\n",
       "    </tr>\n",
       "    <tr>\n",
       "      <th>48</th>\n",
       "      <td>all_energy_types</td>\n",
       "      <td>1980</td>\n",
       "      <td>1.713088</td>\n",
       "      <td>453.819000</td>\n",
       "      <td>2.795193e+04</td>\n",
       "    </tr>\n",
       "    <tr>\n",
       "      <th>66</th>\n",
       "      <td>all_energy_types</td>\n",
       "      <td>1980</td>\n",
       "      <td>2.985436</td>\n",
       "      <td>373.576200</td>\n",
       "      <td>1.472355e+04</td>\n",
       "    </tr>\n",
       "    <tr>\n",
       "      <th>72</th>\n",
       "      <td>all_energy_types</td>\n",
       "      <td>1980</td>\n",
       "      <td>1.097383</td>\n",
       "      <td>212.487100</td>\n",
       "      <td>7.550408e+03</td>\n",
       "    </tr>\n",
       "    <tr>\n",
       "      <th>108</th>\n",
       "      <td>all_energy_types</td>\n",
       "      <td>1980</td>\n",
       "      <td>2.122077</td>\n",
       "      <td>267.996100</td>\n",
       "      <td>9.860275e+03</td>\n",
       "    </tr>\n",
       "    <tr>\n",
       "      <th>...</th>\n",
       "      <td>...</td>\n",
       "      <td>...</td>\n",
       "      <td>...</td>\n",
       "      <td>...</td>\n",
       "      <td>...</td>\n",
       "    </tr>\n",
       "    <tr>\n",
       "      <th>55398</th>\n",
       "      <td>all_energy_types</td>\n",
       "      <td>2019</td>\n",
       "      <td>2.447475</td>\n",
       "      <td>190.147200</td>\n",
       "      <td>2.851585e+04</td>\n",
       "    </tr>\n",
       "    <tr>\n",
       "      <th>55404</th>\n",
       "      <td>all_energy_types</td>\n",
       "      <td>2019</td>\n",
       "      <td>3.509086</td>\n",
       "      <td>915.504000</td>\n",
       "      <td>9.642590e+04</td>\n",
       "    </tr>\n",
       "    <tr>\n",
       "      <th>55422</th>\n",
       "      <td>all_energy_types</td>\n",
       "      <td>2019</td>\n",
       "      <td>0.159020</td>\n",
       "      <td>53.083800</td>\n",
       "      <td>2.916220e+04</td>\n",
       "    </tr>\n",
       "    <tr>\n",
       "      <th>55428</th>\n",
       "      <td>all_energy_types</td>\n",
       "      <td>2019</td>\n",
       "      <td>0.207097</td>\n",
       "      <td>247.181900</td>\n",
       "      <td>1.787385e+04</td>\n",
       "    </tr>\n",
       "    <tr>\n",
       "      <th>55434</th>\n",
       "      <td>all_energy_types</td>\n",
       "      <td>2019</td>\n",
       "      <td>0.168651</td>\n",
       "      <td>37.620400</td>\n",
       "      <td>1.465420e+04</td>\n",
       "    </tr>\n",
       "  </tbody>\n",
       "</table>\n",
       "<p>6671 rows × 5 columns</p>\n",
       "</div>"
      ],
      "text/plain": [
       "            Energy_type  Year  Energy_consumption           GDP    Population\n",
       "0      all_energy_types  1980          292.899790  27770.910281  4.298127e+06\n",
       "48     all_energy_types  1980            1.713088    453.819000  2.795193e+04\n",
       "66     all_energy_types  1980            2.985436    373.576200  1.472355e+04\n",
       "72     all_energy_types  1980            1.097383    212.487100  7.550408e+03\n",
       "108    all_energy_types  1980            2.122077    267.996100  9.860275e+03\n",
       "...                 ...   ...                 ...           ...           ...\n",
       "55398  all_energy_types  2019            2.447475    190.147200  2.851585e+04\n",
       "55404  all_energy_types  2019            3.509086    915.504000  9.642590e+04\n",
       "55422  all_energy_types  2019            0.159020     53.083800  2.916220e+04\n",
       "55428  all_energy_types  2019            0.207097    247.181900  1.787385e+04\n",
       "55434  all_energy_types  2019            0.168651     37.620400  1.465420e+04\n",
       "\n",
       "[6671 rows x 5 columns]"
      ]
     },
     "execution_count": 315,
     "metadata": {},
     "output_type": "execute_result"
    }
   ],
   "source": [
    "#cleaning data as we only need some data\n",
    "\n",
    "CDF = DF[[\"Energy_type\",\"Year\",\t\"Energy_consumption\",\t\"GDP\",\t\"Population\"]]\n",
    "\n",
    "CDF.head(7)\n",
    "print(CDF[\"Energy_type\"])\n",
    "#removing all non genral energy types\n",
    "CDF = CDF[(CDF['Energy_type'] == 'all_energy_types')]\n",
    "#removing all rows with \"NaN\"\n",
    "CDF = CDF.dropna()\n",
    "CDF.head(rowsofdata)\n"
   ]
  },
  {
   "cell_type": "markdown",
   "metadata": {},
   "source": [
    "So now we have taken ought all the data that is about spisific energy types, and all the data that has a null value\n",
    "Next im removing the column Energyt type"
   ]
  },
  {
   "cell_type": "code",
   "execution_count": 316,
   "metadata": {},
   "outputs": [],
   "source": [
    "fdf = CDF[[\"Year\",\t\"Energy_consumption\",\t\"GDP\",\t\"Population\"]]"
   ]
  },
  {
   "cell_type": "code",
   "execution_count": 317,
   "metadata": {},
   "outputs": [
    {
     "name": "stdout",
     "output_type": "stream",
     "text": [
      "Coefficients:  [[-4.18857964e-02  3.52913291e-03  2.79775952e-05]]\n"
     ]
    }
   ],
   "source": [
    "msk = np.random.rand(len(fdf)) < 0.8\n",
    "train = fdf[msk]\n",
    "test = fdf[~msk]\n",
    "\n",
    "regr = linear_model.LinearRegression()\n",
    "# we put all indipents into the x, \n",
    "X = np.asanyarray(train[[\"Year\", \"GDP\",\t\"Population\"]])\n",
    "y = np.asanyarray(train[[\"Energy_consumption\"]])\n",
    "regr.fit (X, y)\n",
    "# The coefficients\n",
    "print ('Coefficients: ', regr.coef_)"
   ]
  },
  {
   "cell_type": "markdown",
   "metadata": {},
   "source": [
    "Scoring it"
   ]
  },
  {
   "cell_type": "code",
   "execution_count": 318,
   "metadata": {},
   "outputs": [
    {
     "name": "stdout",
     "output_type": "stream",
     "text": [
      "Mean Squared Error (MSE) : 24.60\n",
      "Variance score for together is : 0.96\n"
     ]
    },
    {
     "name": "stderr",
     "output_type": "stream",
     "text": [
      "C:\\Users\\kaica\\AppData\\Local\\Packages\\PythonSoftwareFoundation.Python.3.11_qbz5n2kfra8p0\\LocalCache\\local-packages\\Python311\\site-packages\\sklearn\\base.py:486: UserWarning: X has feature names, but LinearRegression was fitted without feature names\n",
      "  warnings.warn(\n"
     ]
    }
   ],
   "source": [
    "y_hat= regr.predict(test[[\"Year\",\t\"GDP\",\t\"Population\"]])\n",
    "x_seprates = np.asanyarray(test[[\"Year\",\t\"GDP\",\t\"Population\"]])\n",
    "y = np.asanyarray(test[[\"Energy_consumption\"]])\n",
    "print(\"Mean Squared Error (MSE) : %.2f\"\n",
    "      % np.mean((y_hat - y) ** 2))\n",
    "\n",
    "# Explained variance score: 1 is perfect prediction\n",
    "print('Variance score for together is : %.2f' % regr.score(x_seprate, y))\n",
    "#this is a variable for comparing them latter\n",
    "combo = regr.score(x_seprate, y)"
   ]
  },
  {
   "cell_type": "markdown",
   "metadata": {},
   "source": [
    "so now we have to know how to use the model. \n"
   ]
  },
  {
   "cell_type": "code",
   "execution_count": null,
   "metadata": {},
   "outputs": [],
   "source": []
  }
 ],
 "metadata": {
  "kernelspec": {
   "display_name": "Python 3",
   "language": "python",
   "name": "python3"
  },
  "language_info": {
   "codemirror_mode": {
    "name": "ipython",
    "version": 3
   },
   "file_extension": ".py",
   "mimetype": "text/x-python",
   "name": "python",
   "nbconvert_exporter": "python",
   "pygments_lexer": "ipython3",
   "version": "3.11.9"
  }
 },
 "nbformat": 4,
 "nbformat_minor": 2
}
