{
 "cells": [
  {
   "cell_type": "code",
   "execution_count": 1,
   "metadata": {},
   "outputs": [
    {
     "data": {
      "text/plain": [
       "2.0"
      ]
     },
     "execution_count": 1,
     "metadata": {},
     "output_type": "execute_result"
    }
   ],
   "source": [
    "#Come up with a function that divides the first input by the second input:\n",
    "\n",
    "def division(numorator,denomonator):\n",
    "    return numorator/denomonator\n",
    "division(6,3)"
   ]
  },
  {
   "cell_type": "code",
   "execution_count": 13,
   "metadata": {},
   "outputs": [
    {
     "data": {
      "text/plain": [
       "3"
      ]
     },
     "execution_count": 13,
     "metadata": {},
     "output_type": "execute_result"
    }
   ],
   "source": [
    "def con(a, b):\n",
    "    return(a + b)\n",
    "#Q)Can the con function  be used to add two integers or strings?\n",
    "#A) of course\n",
    "#Q)can the con function we defined before be used to concatenate lists or tuples?\n",
    "#A) i think so\n",
    "'''Write a function code to find total count of word little in the given string:\n",
    " \"Mary had a little lamb Little lamb, little lamb Mary had a little lamb.\n",
    "Its fleece was white as snow And everywhere that Mary went Mary went,\n",
    " Mary went Everywhere that Mary went The lamb was sure to go\"'''\n",
    "\n",
    "marry=\"Mary had a little lamb Little lamb, little lamb Mary had a little lamb. Its fleece was white as snow And everywhere that Mary went Mary went, Mary went Everywhere that Mary went The lamb was sure to go\"\n",
    "#this function will take the word you hope to searchfor with in the given string in the format \"wordcount(\"word i want to search for\", \"list i want to seach within\")\"\n",
    "def wordcount(inputWord,variable):\n",
    "    List=variable.split()\n",
    "    Count = 0\n",
    "    i=0\n",
    "    while i < len(List):\n",
    "        if inputWord == List[i]:\n",
    "            Count += 1\n",
    "        i += 1\n",
    "    return Count\n",
    "wordcount(\"little\", marry)\n",
    "\n"
   ]
  },
  {
   "cell_type": "code",
   "execution_count": null,
   "metadata": {},
   "outputs": [],
   "source": []
  }
 ],
 "metadata": {
  "kernelspec": {
   "display_name": "Python 3",
   "language": "python",
   "name": "python3"
  },
  "language_info": {
   "codemirror_mode": {
    "name": "ipython",
    "version": 3
   },
   "file_extension": ".py",
   "mimetype": "text/x-python",
   "name": "python",
   "nbconvert_exporter": "python",
   "pygments_lexer": "ipython3",
   "version": "3.11.9"
  }
 },
 "nbformat": 4,
 "nbformat_minor": 2
}
