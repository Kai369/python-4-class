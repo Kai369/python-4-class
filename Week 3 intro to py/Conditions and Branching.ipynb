{
 "cells": [
  {
   "cell_type": "code",
   "execution_count": 12,
   "metadata": {},
   "outputs": [
    {
     "name": "stdout",
     "output_type": "stream",
     "text": [
      "its greater\n",
      "1980s or latter\n",
      "None\n"
     ]
    }
   ],
   "source": [
    "#test if an album has a value gatter than 8, let he sample have a rating of 8.5\n",
    "BackInBlack=8.5\n",
    "if BackInBlack > 8:\n",
    "    print(\"its greater\")\n",
    "#add an aspect that prints \"this album is ok\" if equal to or less than 8\n",
    "else:\n",
    "    print(\"its ok\")\n",
    "''' write an if statement to determine if an album came out before 1980 or in \n",
    "the years: 1991 or 1993. If the condition is true print out the year the album came out.'''\n",
    "\n",
    "#defining the albumbs. this was just to test with.\n",
    "dictOfAlbums={\"album1Date\":1970, \"Reading, Writing, and Arithmetic\":1990, \"album3\": 1993}\n",
    "\n",
    "#this is the function that will do the majic :)\n",
    "def DateIt (albumDate):\n",
    "    if albumDate < 1980:\n",
    "        print(\"befor the 1980's, all dusty and worn\")\n",
    "    elif albumDate >= 1980:\n",
    "        print(\"1980s or latter\")\n",
    "    if albumDate == 1991 or albumDate==1993:\n",
    "        print(\"its 1991 or 1993\")\n",
    "print(DateIt(dictOfAlbums[\"Reading, Writing, and Arithmetic\"]))\n",
    "\n"
   ]
  },
  {
   "cell_type": "code",
   "execution_count": null,
   "metadata": {},
   "outputs": [],
   "source": []
  }
 ],
 "metadata": {
  "kernelspec": {
   "display_name": "Python 3",
   "language": "python",
   "name": "python3"
  },
  "language_info": {
   "codemirror_mode": {
    "name": "ipython",
    "version": 3
   },
   "file_extension": ".py",
   "mimetype": "text/x-python",
   "name": "python",
   "nbconvert_exporter": "python",
   "pygments_lexer": "ipython3",
   "version": "3.11.9"
  }
 },
 "nbformat": 4,
 "nbformat_minor": 2
}
