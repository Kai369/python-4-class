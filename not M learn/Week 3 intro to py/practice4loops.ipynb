{
 "cells": [
  {
   "cell_type": "code",
   "execution_count": 4,
   "metadata": {},
   "outputs": [
    {
     "name": "stdout",
     "output_type": "stream",
     "text": [
      "-5\n",
      "-4\n",
      "-3\n",
      "-2\n",
      "-1\n",
      "0\n",
      "1\n",
      "2\n",
      "3\n",
      "4\n",
      "5\n",
      "rock\n",
      "R&B\n",
      "Soundtrack\n",
      "R&B\n",
      "soul\n",
      "pop\n",
      "red\n",
      "yellow\n",
      "green\n",
      "purple\n",
      "blue\n"
     ]
    }
   ],
   "source": [
    "#Write a for loop the prints out all the element between -5 and 5 using the range function.\n",
    "for I in range(-5,6):\n",
    "    print(I)\n",
    "#Print the elements of the following list: Genres=[ 'rock', 'R&B', \n",
    "#'Soundtrack', 'R&B', 'soul', 'pop'] Make sure you follow Python conventions.\n",
    "Genres=[ 'rock', 'R&B', 'Soundtrack', 'R&B', 'soul', 'pop'] \n",
    "for genre in Genres:\n",
    "    print(genre)\n",
    "#then print out this list squares=['red', 'yellow', 'green', 'purple', 'blue']\n",
    "squares=['red', 'yellow', 'green', 'purple', 'blue']\n",
    "for color in squares:\n",
    "    print(color)\n"
   ]
  },
  {
   "cell_type": "code",
   "execution_count": 3,
   "metadata": {},
   "outputs": [
    {
     "name": "stdout",
     "output_type": "stream",
     "text": [
      "10\n",
      "9.5\n",
      "10\n",
      "8\n",
      "7.5\n"
     ]
    }
   ],
   "source": [
    "#Write a while loop to display the values of the Rating of an album playlist stored in the list PlayListRatings.\n",
    "#If the score is less than 6, exit the loop. The list PlayListRatings is given by: PlayListRatings = [10, 9.5, 10, 8, 7.5, 5, 10, 10]\n",
    "\n",
    "PlayListRatings = [10, 9.5, 10, 8, 7.5, 5, 10, 10]\n",
    "i = 0\n",
    "while PlayListRatings[i] > 6:\n",
    "    print(PlayListRatings[i])\n",
    "    if i> len(PlayListRatings):\n",
    "        break\n",
    "    \n",
    "    i += 1\n",
    "\n",
    "\n"
   ]
  },
  {
   "cell_type": "code",
   "execution_count": 1,
   "metadata": {},
   "outputs": [
    {
     "name": "stdout",
     "output_type": "stream",
     "text": [
      "['orange']\n",
      "['orange', 'orange']\n"
     ]
    }
   ],
   "source": [
    "'''Write a while loop to copy the strings 'orange' of the list squares to the list new_squares. \n",
    "Stop and exit the loop if the value on the list is not 'orange':'''\n",
    "\n",
    "squares = ['orange', 'orange', 'purple', 'blue ', 'orange']\n",
    "new_squares = []\n",
    "i=0\n",
    "while squares[i] == 'orange':\n",
    "    new_squares.append(squares[i])\n",
    "    print (new_squares)\n",
    "    i+=1"
   ]
  },
  {
   "cell_type": "code",
   "execution_count": 11,
   "metadata": {},
   "outputs": [
    {
     "name": "stdout",
     "output_type": "stream",
     "text": [
      "7 times 1 is equal to 7\n",
      "7 times 2 is equal to 14\n",
      "7 times 3 is equal to 21\n",
      "7 times 4 is equal to 28\n",
      "7 times 5 is equal to 35\n",
      "7 times 6 is equal to 42\n",
      "7 times 7 is equal to 49\n",
      "7 times 8 is equal to 56\n",
      "7 times 9 is equal to 63\n",
      "7 times 10 is equal to 70\n",
      "7 times 11 is equal to 77\n",
      "7 times 12 is equal to 84\n",
      "6 times 1 is equal to 6\n",
      "6 times 2 is equal to 12\n",
      "6 times 3 is equal to 18\n",
      "6 times 4 is equal to 24\n",
      "6 times 5 is equal to 30\n",
      "6 times 6 is equal to 36\n",
      "6 times 7 is equal to 42\n",
      "6 times 8 is equal to 48\n",
      "6 times 9 is equal to 54\n",
      "6 times 10 is equal to 60\n",
      "6 times 11 is equal to 66\n",
      "6 times 12 is equal to 72\n"
     ]
    }
   ],
   "source": [
    "'''Your little brother has just learned multiplication tables in school. \n",
    "Today he has learned tables of 6 and 7. \n",
    "Help him memorise both the tables by printing them using for loop'''\n",
    "\n",
    "def makeATable(inputnum):\n",
    "    for i in range(1,13):\n",
    "        (print(inputnum, \"times\", i, \"is equal to\",inputnum*i))\n",
    "makeATable(7)\n",
    "makeATable(6)\n",
    "\n",
    "    "
   ]
  },
  {
   "cell_type": "code",
   "execution_count": null,
   "metadata": {},
   "outputs": [],
   "source": []
  }
 ],
 "metadata": {
  "kernelspec": {
   "display_name": "Python 3",
   "language": "python",
   "name": "python3"
  },
  "language_info": {
   "codemirror_mode": {
    "name": "ipython",
    "version": 3
   },
   "file_extension": ".py",
   "mimetype": "text/x-python",
   "name": "python",
   "nbconvert_exporter": "python",
   "pygments_lexer": "ipython3",
   "version": "3.11.9"
  }
 },
 "nbformat": 4,
 "nbformat_minor": 2
}
