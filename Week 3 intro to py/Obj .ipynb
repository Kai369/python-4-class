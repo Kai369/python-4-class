{
 "cells": [
  {
   "cell_type": "code",
   "execution_count": 11,
   "metadata": {},
   "outputs": [
    {
     "name": "stdout",
     "output_type": "stream",
     "text": [
      "this car has:\n",
      " a Color of white \n",
      "a Max Speed of: 200 km/h \n",
      " a Gas Milage of: 20 mi/gal \n",
      " and a Capacity of: 5\n",
      "this car has:\n",
      " a Color of white \n",
      "a Max Speed of: 180 km/h \n",
      " a Gas Milage of: 25 mi/gal \n",
      " and a Capacity of: 4\n",
      "kia: None \n",
      " Tesla: None\n"
     ]
    }
   ],
   "source": [
    "#task-1. You are tasked with creating a Python program to represent vehicles using a class. \n",
    "#Each car should have attributes for maximum speed and mileage.\n",
    "class car:\n",
    "    carColor=\"white\"\n",
    "\n",
    "    def __init__(self, maxSpeed, milage):\n",
    "        self.maxSpeed= maxSpeed\n",
    "        self.milage=milage\n",
    "\n",
    "    def seating(self, capacity):\n",
    "        self.capacity = capacity\n",
    "    def displayCarProportys(self):\n",
    "        print(\"this car has:\\n a Color of\", self.carColor,\"\\na Max Speed of:\",self.maxSpeed,\"\\n a Gas Milage of:\", self.milage,\"\\n and a Capacity of:\",self.capacity)\n",
    "#Task-5. Additionally, you need to create two objects of the Vehicle class object that should have a max speed \n",
    "#of 200kmph and mileage of 20kmpl with five seating capacities,\n",
    "# and another car object should have a max speed of 180kmph and mileage of 25kmpl with four seating capacities.\n",
    "Kia1=car(\"200 km/h\", \"20 mi/gal\")\n",
    "Kia1.seating(5)\n",
    "tesla1 = car(\"180 km/h\", \"25 mi/gal\")\n",
    "tesla1.seating(4)\n",
    "print(\"kia:\", Kia1.displayCarProportys(),\"\\n Tesla:\", tesla1.displayCarProportys())\n"
   ]
  },
  {
   "cell_type": "code",
   "execution_count": null,
   "metadata": {},
   "outputs": [],
   "source": []
  }
 ],
 "metadata": {
  "kernelspec": {
   "display_name": "Python 3",
   "language": "python",
   "name": "python3"
  },
  "language_info": {
   "codemirror_mode": {
    "name": "ipython",
    "version": 3
   },
   "file_extension": ".py",
   "mimetype": "text/x-python",
   "name": "python",
   "nbconvert_exporter": "python",
   "pygments_lexer": "ipython3",
   "version": "3.11.9"
  }
 },
 "nbformat": 4,
 "nbformat_minor": 2
}
