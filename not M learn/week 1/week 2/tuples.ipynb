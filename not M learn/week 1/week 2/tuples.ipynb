{
 "cells": [
  {
   "cell_type": "code",
   "execution_count": 8,
   "metadata": {},
   "outputs": [
    {
     "name": "stdout",
     "output_type": "stream",
     "text": [
      "8\n",
      "hard rock\n",
      "('hard rock', 'soft rock', 'R&B')\n",
      "('pop', 'rock')\n",
      "s\n"
     ]
    }
   ],
   "source": [
    "# find the lenth of the tuple \n",
    "\n",
    "genres_tuple = (\"pop\", \"rock\", \"soul\", \"hard rock\", \"soft rock\", \\\n",
    "                \"R&B\", \"progressive rock\", \"disco\") \n",
    "print(len(genres_tuple))\n",
    "#Access the element, with respect to index 3:\n",
    "print(genres_tuple[3])\n",
    "#Use slicing to obtain indexes 3, 4 and 5:\n",
    "print(genres_tuple[3:6])\n",
    "#Find the first two elements of the tuple genres_tuple:\n",
    "print(genres_tuple[0:2])\n",
    "#Find the index of 's' in \"disco\"\n",
    "print(genres_tuple[7][2])"
   ]
  }
 ],
 "metadata": {
  "kernelspec": {
   "display_name": "Python 3",
   "language": "python",
   "name": "python3"
  },
  "language_info": {
   "codemirror_mode": {
    "name": "ipython",
    "version": 3
   },
   "file_extension": ".py",
   "mimetype": "text/x-python",
   "name": "python",
   "nbconvert_exporter": "python",
   "pygments_lexer": "ipython3",
   "version": "3.11.9"
  }
 },
 "nbformat": 4,
 "nbformat_minor": 2
}
