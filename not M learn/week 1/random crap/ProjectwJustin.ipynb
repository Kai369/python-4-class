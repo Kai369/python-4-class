{
 "cells": [
  {
   "cell_type": "code",
   "execution_count": 37,
   "metadata": {},
   "outputs": [
    {
     "name": "stdout",
     "output_type": "stream",
     "text": [
      "<callable_iterator object at 0x0000013A3E641600>\n"
     ]
    },
    {
     "ename": "TypeError",
     "evalue": "unsupported operand type(s) for +=: 're.Match' and 'int'",
     "output_type": "error",
     "traceback": [
      "\u001b[1;31m---------------------------------------------------------------------------\u001b[0m",
      "\u001b[1;31mTypeError\u001b[0m                                 Traceback (most recent call last)",
      "Cell \u001b[1;32mIn[37], line 15\u001b[0m\n\u001b[0;32m     13\u001b[0m \u001b[38;5;28mprint\u001b[39m(r)\n\u001b[0;32m     14\u001b[0m \u001b[38;5;28;01mfor\u001b[39;00m x \u001b[38;5;129;01min\u001b[39;00m r:\n\u001b[1;32m---> 15\u001b[0m     \u001b[43mx\u001b[49m\u001b[38;5;241;43m+\u001b[39;49m\u001b[38;5;241;43m=\u001b[39;49m\u001b[38;5;241;43m1\u001b[39;49m\n\u001b[0;32m     17\u001b[0m test_str \u001b[38;5;241m=\u001b[39m test_str\u001b[38;5;241m.\u001b[39msplit()\n\u001b[0;32m     18\u001b[0m res \u001b[38;5;241m=\u001b[39m \u001b[38;5;241m-\u001b[39m\u001b[38;5;241m1\u001b[39m\n",
      "\u001b[1;31mTypeError\u001b[0m: unsupported operand type(s) for +=: 're.Match' and 'int'"
     ]
    }
   ],
   "source": [
    "import pandas as pd\n",
    "from bs4 import BeautifulSoup as bs\n",
    "import requests\n",
    "import re \n",
    "URL = \"https://docs.google.com/document/d/1ENUMJn3zXDbMYK4m_UJHumhZB6Iqc6gZCa46vROa5J4/edit\"\n",
    "cool = requests.get(URL)\n",
    "swagger = bs(cool.text, 'html.parser')\n",
    "Pretty=swagger.prettify()\n",
    "split = Pretty.split()\n",
    "\n",
    "r = re.finditer(r\"value\",Pretty)\n",
    "x=0\n",
    "print(r)\n",
    "for x in r:\n",
    "    x+=1\n",
    "\n",
    "test_str = test_str.split()\n",
    "res = -1\n",
    "for idx in test_str:\n",
    "    if len(re.findall(wrd, idx)) > 0:\n",
    "        res = test_str.index(idx) + 1\n",
    "\n",
    "\n",
    "\n",
    "\n",
    "\n",
    "\n"
   ]
  },
  {
   "cell_type": "code",
   "execution_count": 58,
   "metadata": {},
   "outputs": [
    {
     "name": "stdout",
     "output_type": "stream",
     "text": [
      "[]\n"
     ]
    }
   ],
   "source": [
    "import pandas as pd\n",
    "from bs4 import BeautifulSoup as bs\n",
    "import requests\n",
    "import re \n",
    "URL = \"https://docs.google.com/document/d/1ENUMJn3zXDbMYK4m_UJHumhZB6Iqc6gZCa46vROa5J4/edit\"\n",
    "cool = requests.get(URL)\n",
    "swagger = bs(cool.text, 'html.parser')\n",
    "Pretty=swagger.prettify()\n",
    "split = Pretty.split()\n",
    "\n",
    "def look4stuf(str, word):\n",
    "    positions = []\n",
    "    start_index = 0\n",
    "    while True:\n",
    "        index = str.find(word, start_index)\n",
    "        if index == -1:\n",
    "            break\n",
    "        positions.append(index)\n",
    "        start_index = index + len(word)\n",
    "    return positions\n",
    "\n",
    "\n",
    "\n",
    "setos = look4stuf(Pretty, \"\\script\")\n",
    "print(setos)\n",
    "set(setos)\n",
    "ink = 0\n",
    "\n",
    "\n",
    "#for loc in locations:\n",
    "#      if 0 <= loc < len(text):\n"
   ]
  },
  {
   "cell_type": "code",
   "execution_count": null,
   "metadata": {},
   "outputs": [],
   "source": [
    "def look4stuf(str, word):\n",
    "    positions = []\n",
    "    start_index = 0\n",
    "    while True:\n",
    "        index = str.find(word, start_index)\n",
    "        if index == -1:\n",
    "            break\n",
    "\n",
    "        \n",
    "        positions.append(index)\n",
    "        start_index = index + len(word)\n",
    "    return positions\n"
   ]
  },
  {
   "cell_type": "code",
   "execution_count": null,
   "metadata": {},
   "outputs": [],
   "source": []
  }
 ],
 "metadata": {
  "kernelspec": {
   "display_name": "Python 3",
   "language": "python",
   "name": "python3"
  },
  "language_info": {
   "codemirror_mode": {
    "name": "ipython",
    "version": 3
   },
   "file_extension": ".py",
   "mimetype": "text/x-python",
   "name": "python",
   "nbconvert_exporter": "python",
   "pygments_lexer": "ipython3",
   "version": "3.11.9"
  }
 },
 "nbformat": 4,
 "nbformat_minor": 2
}
