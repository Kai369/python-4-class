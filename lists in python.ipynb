{
 "cells": [
  {
   "cell_type": "markdown",
   "metadata": {},
   "source": [
    "quiz on list"
   ]
  },
  {
   "cell_type": "code",
   "execution_count": 3,
   "metadata": {},
   "outputs": [
    {
     "name": "stdout",
     "output_type": "stream",
     "text": [
      "hello\n",
      "('hello', [1, 2, 3], True)\n"
     ]
    }
   ],
   "source": [
    "#Create a list a_list, with the following elements 1, hello, [1,2,3] and True.\n",
    "x=1, \"hello\", [1,2,3], True\n",
    "#print the first eliment\n",
    "print(x[1])\n",
    "\n",
    "# print entrys 12&3\n",
    "print(x[1:4]) "
   ]
  },
  {
   "cell_type": "code",
   "execution_count": 4,
   "metadata": {},
   "outputs": [
    {
     "name": "stdout",
     "output_type": "stream",
     "text": [
      "[1, 'a', 2, 1, 'd']\n"
     ]
    }
   ],
   "source": [
    "#Concatenate the following lists A = [1, 'a'] and B = [2, 1, 'd']:\n",
    "A = [1, 'a'] \n",
    "B = [2, 1, 'd']\n",
    "together=A+B\n",
    "print(together)\n",
    "\n"
   ]
  },
  {
   "cell_type": "markdown",
   "metadata": {},
   "source": [
    "Scenario\n"
   ]
  },
  {
   "cell_type": "code",
   "execution_count": 15,
   "metadata": {},
   "outputs": [
    {
     "name": "stdout",
     "output_type": "stream",
     "text": [
      "Watch\n",
      "football\n",
      "['Laptop', 'Shoes']\n",
      "['Watch', 'Laptop', 'Shoes', 'notebook', 'football']\n"
     ]
    }
   ],
   "source": [
    "import re\n",
    "#creat empty list\n",
    "x=[]\n",
    "\n",
    "#put some items in the list \n",
    "x=[\"Watch\",\"Laptop\",\"Shoes\",\"Pen\", \"Clothes\"]\n",
    "#now add \"football\"\n",
    "x.append(\"football\")\n",
    "#Print the first item\n",
    "print(x[0])\n",
    "#print the last item\n",
    "print(x[-1])\n",
    "#print laptop and shoes\n",
    "print(x[1:3])\n",
    "#change pen for notebook\n",
    "x[3]=\"notebook\"\\\n",
    "#delet clothes\n",
    "del(x[4])\n",
    "#print it again\n",
    "print(x)\n"
   ]
  },
  {
   "cell_type": "code",
   "execution_count": null,
   "metadata": {},
   "outputs": [],
   "source": []
  }
 ],
 "metadata": {
  "kernelspec": {
   "display_name": "Python 3",
   "language": "python",
   "name": "python3"
  },
  "language_info": {
   "codemirror_mode": {
    "name": "ipython",
    "version": 3
   },
   "file_extension": ".py",
   "mimetype": "text/x-python",
   "name": "python",
   "nbconvert_exporter": "python",
   "pygments_lexer": "ipython3",
   "version": "3.11.9"
  }
 },
 "nbformat": 4,
 "nbformat_minor": 2
}
