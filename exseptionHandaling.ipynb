{
 "cells": [
  {
   "cell_type": "code",
   "execution_count": 4,
   "metadata": {},
   "outputs": [
    {
     "name": "stdout",
     "output_type": "stream",
     "text": [
      "5.0\n"
     ]
    }
   ],
   "source": [
    "#Exercise 1: Handling ZeroDivisionError\n",
    "\"\"\"magine you have two numbers and want to determine what happens when you divide one number by the other.\n",
    " To do this, you need to create a Python function called safe_divide. \n",
    " You give this function two numbers, a 'numerator' and a 'denominator'.\n",
    "   The 'numerator' is the number you want to divide, and the 'denominator' is the number you want to divide by.\n",
    "   Use the user input method of Python to take the values.\n",
    "\n",
    "The function should be able to do the division for you and give you the result. \n",
    "But here's the catch: if you try to divide by zero (which is not allowed in math), the function should be smart enough to catch that and tell you that it's not possible to divide by zero.\n",
    " Instead of showing an error, it should return None, which means 'nothing' or 'no value', and print \"Error: Cannot divide by Zero.\"\"\"\n",
    "\n",
    "\n",
    "def safeDivide(numorator, denomonator):\n",
    "    try:\n",
    "        numorator/denomonator\n",
    "    except ZeroDivisionError:\n",
    "        return(print(\"cannot do that cus denomonator was 0\"))\n",
    "    print(numorator/denomonator)\n",
    "safeDivide(20,4)"
   ]
  },
  {
   "cell_type": "code",
   "execution_count": 13,
   "metadata": {},
   "outputs": [
    {
     "name": "stdout",
     "output_type": "stream",
     "text": [
      "4.0\n",
      " that is negative\n",
      "None\n"
     ]
    }
   ],
   "source": [
    "#Exercise 2: Handling ValueError\n",
    "'''Imagine you have a number and want to calculate its square root. To do this, you need to create a Python function. \n",
    "You give this function one number, 'number1'.\n",
    "\n",
    "The function should generate the square root value if you provide a positive integer or float value as input.\n",
    " However, the function should be clever enough to detect the mistake if you enter a negative value. \n",
    " It should kindly inform you with a message saying, 'Invalid input! Please enter a positive integer or a float value.\n",
    "'''\n",
    "import math\n",
    "def saferoot(numtoroot):\n",
    "    try:\n",
    "        \n",
    "        return(math.sqrt(numtoroot))\n",
    "    except(ValueError):\n",
    "        return(print(\" that is negative\"))\n",
    "    \n",
    "    \n",
    "print(saferoot(16))\n",
    "print(saferoot(-16))\n"
   ]
  },
  {
   "cell_type": "code",
   "execution_count": 18,
   "metadata": {},
   "outputs": [
    {
     "name": "stdout",
     "output_type": "stream",
     "text": [
      "error\n",
      "None\n"
     ]
    }
   ],
   "source": [
    "'''Imagine you have a number and want to perform a complex mathematical task.\n",
    " The calculation requires dividing the value of the input argument \"num\" by the difference between \"num\" and 5, and the result has\n",
    "   to be stored in a variable called \"result\".\n",
    "\n",
    "You have to define a function so that it can perform that complex mathematical task.\n",
    " The function should handle any potential errors that occur during the calculation.\n",
    " To do this, you can use a try-except block. \n",
    " If any exception arises during the calculation, it should catch the error using the generic exception class \"Exception\" as \"e\". \n",
    " When an exception occurs, the function should display \"An error occurred during calculation.'''\n",
    "\n",
    "def resultmaker(num):\n",
    "    try:\n",
    "        x=5-num\n",
    "        result = num/x\n",
    "        return(result)\n",
    "    except(Exception):\n",
    "        print(\"error\")\n",
    "print(resultmaker(5))\n"
   ]
  },
  {
   "cell_type": "code",
   "execution_count": null,
   "metadata": {},
   "outputs": [],
   "source": []
  }
 ],
 "metadata": {
  "kernelspec": {
   "display_name": "Python 3",
   "language": "python",
   "name": "python3"
  },
  "language_info": {
   "codemirror_mode": {
    "name": "ipython",
    "version": 3
   },
   "file_extension": ".py",
   "mimetype": "text/x-python",
   "name": "python",
   "nbconvert_exporter": "python",
   "pygments_lexer": "ipython3",
   "version": "3.11.9"
  }
 },
 "nbformat": 4,
 "nbformat_minor": 2
}
