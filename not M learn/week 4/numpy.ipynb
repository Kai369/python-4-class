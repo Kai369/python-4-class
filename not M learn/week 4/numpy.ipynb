{
 "cells": [
  {
   "cell_type": "code",
   "execution_count": 37,
   "metadata": {},
   "outputs": [
    {
     "name": "stdout",
     "output_type": "stream",
     "text": [
      "(7,)\n",
      "1\n",
      "7\n",
      "-10 502 166 830\n",
      "[30 32 34 36 38 40]\n",
      "[-10  -1   8  17  26  35]\n",
      "[ 20  20  60 120 200 300]\n",
      "[ 3.33333333  4.          3.          5.         25.          1.81818182]\n",
      "26\n",
      "[6 7 8 4]\n",
      "[5.  4.8 4.6 4.4 4.2 4. ]\n"
     ]
    }
   ],
   "source": [
    "#Find the shape \n",
    "import numpy as np\n",
    "b = np.array([10, 20, 30, 40, 50, 60, 70])\n",
    "print(b.shape)\n",
    "#find the number od dimentions\n",
    "print(b.ndim)\n",
    "# find the number od elements \n",
    "print(b.size)\n",
    "\n",
    "# find the max and min and sum and mean of this aray\n",
    "c = np.array([-10, 201, 43, 94, 502])\n",
    "\n",
    "print(c.min() , c.max(), int(c.mean()), c.sum())\n",
    "#add these two arays \n",
    "v = np.array([0, 1])\n",
    "u = np.array([1, 0])\n",
    "\n",
    "z = np.add(u, v)\n",
    "z\n",
    "#do it again\n",
    "arr1 = np.array([10, 11, 12, 13, 14, 15])\n",
    "arr2 = np.array([20, 21, 22, 23, 24, 25])\n",
    "sumarr1and2 = np.add(arr1, arr2)\n",
    "print(sumarr1and2)\n",
    "\n",
    "#subtract\n",
    "arr1 = np.array([10, 20, 30, 40, 50, 60])\n",
    "arr2 = np.array([20, 21, 22, 23, 24, 25])\n",
    "a=np.subtract(arr1,arr2)\n",
    "print(a)\n",
    "#multiply\n",
    "arr1 = np.array([10, 20, 30, 40, 50, 60])\n",
    "arr2 = np.array([2, 1, 2, 3, 4, 5])\n",
    "edsheran = np.multiply(arr1, arr2)\n",
    "print(edsheran)\n",
    "#devide\n",
    "arr1 = np.array([10, 20, 30, 40, 50, 60])\n",
    "arr2 = np.array([3, 5, 10, 8, 2, 33])\n",
    "allOfEdSherensAlbumbs = np.divide(arr1, arr2)\n",
    "print(allOfEdSherensAlbumbs)\n",
    "#dot the two matrecys, i mean arrays.\n",
    "\n",
    "arr1 = np.array([3, 5])\n",
    "arr2 = np.array([2, 4])\n",
    "print(np.dot(arr1, arr2))\n",
    "\n",
    "#append 5 \n",
    "arr = np.array([1, 2, 3, -1]) \n",
    "arr = arr+ 5\n",
    "print(arr)\n",
    "\n",
    "\n",
    "#using linspace Make a numpy array within [5, 4] and 6 elements\n",
    "print(np.linspace(5,4,num = 6))\n",
    "\n",
    "\n",
    "#use vector subtractions\n",
    "u = np.array([1, 0])\n",
    "v = np.array([0, 1])\n",
    "lol = u-v \n",
    "\n",
    "#Multiply the numpy array z with -2:\n",
    "z = np.array([2, 4])\n",
    "print(np.multiply(z, -2))\n",
    "#Consider the list [1, 2, 3, 4, 5] and [1, 0, 1, 0, 1]. Cast both lists to a numpy array then multiply them together:\n",
    "a=np.array([1, 2, 3, 4, 5])\n",
    "b=np.array ([1, 0, 1, 0, 1])\n",
    "print(np.multiply(a,b))"
   ]
  },
  {
   "cell_type": "code",
   "execution_count": 12,
   "metadata": {},
   "outputs": [
    {
     "ename": "AttributeError",
     "evalue": "module 'matplotlib' has no attribute 'get_data_path'",
     "output_type": "error",
     "traceback": [
      "\u001b[1;31m---------------------------------------------------------------------------\u001b[0m",
      "\u001b[1;31mAttributeError\u001b[0m                            Traceback (most recent call last)",
      "Cell \u001b[1;32mIn[12], line 6\u001b[0m\n\u001b[0;32m      3\u001b[0m \u001b[38;5;28;01mimport\u001b[39;00m \u001b[38;5;21;01msys\u001b[39;00m\n\u001b[0;32m      4\u001b[0m \u001b[38;5;28;01mimport\u001b[39;00m \u001b[38;5;21;01mnumpy\u001b[39;00m \u001b[38;5;28;01mas\u001b[39;00m \u001b[38;5;21;01mnp\u001b[39;00m \n\u001b[1;32m----> 6\u001b[0m \u001b[38;5;28;01mimport\u001b[39;00m \u001b[38;5;21;01mmatplotlib\u001b[39;00m\u001b[38;5;21;01m.\u001b[39;00m\u001b[38;5;21;01mpyplot\u001b[39;00m \u001b[38;5;28;01mas\u001b[39;00m \u001b[38;5;21;01mplt\u001b[39;00m\n\u001b[0;32m      7\u001b[0m \u001b[38;5;28;01mdef\u001b[39;00m \u001b[38;5;21mPlotvec2\u001b[39m(a,b):\n\u001b[0;32m      8\u001b[0m     ax \u001b[38;5;241m=\u001b[39m plt\u001b[38;5;241m.\u001b[39maxes()\u001b[38;5;66;03m# to generate the full window axes\u001b[39;00m\n",
      "File \u001b[1;32m~\\AppData\\Local\\Packages\\PythonSoftwareFoundation.Python.3.11_qbz5n2kfra8p0\\LocalCache\\local-packages\\Python311\\site-packages\\matplotlib\\__init__.py:977\u001b[0m\n\u001b[0;32m    970\u001b[0m     \u001b[38;5;28;01mreturn\u001b[39;00m config\n\u001b[0;32m    973\u001b[0m \u001b[38;5;66;03m# When constructing the global instances, we need to perform certain updates\u001b[39;00m\n\u001b[0;32m    974\u001b[0m \u001b[38;5;66;03m# by explicitly calling the superclass (dict.update, dict.items) to avoid\u001b[39;00m\n\u001b[0;32m    975\u001b[0m \u001b[38;5;66;03m# triggering resolution of _auto_backend_sentinel.\u001b[39;00m\n\u001b[0;32m    976\u001b[0m rcParamsDefault \u001b[38;5;241m=\u001b[39m _rc_params_in_file(\n\u001b[1;32m--> 977\u001b[0m     \u001b[43mcbook\u001b[49m\u001b[38;5;241;43m.\u001b[39;49m\u001b[43m_get_data_path\u001b[49m\u001b[43m(\u001b[49m\u001b[38;5;124;43m\"\u001b[39;49m\u001b[38;5;124;43mmatplotlibrc\u001b[39;49m\u001b[38;5;124;43m\"\u001b[39;49m\u001b[43m)\u001b[49m,\n\u001b[0;32m    978\u001b[0m     \u001b[38;5;66;03m# Strip leading comment.\u001b[39;00m\n\u001b[0;32m    979\u001b[0m     transform\u001b[38;5;241m=\u001b[39m\u001b[38;5;28;01mlambda\u001b[39;00m line: line[\u001b[38;5;241m1\u001b[39m:] \u001b[38;5;28;01mif\u001b[39;00m line\u001b[38;5;241m.\u001b[39mstartswith(\u001b[38;5;124m\"\u001b[39m\u001b[38;5;124m#\u001b[39m\u001b[38;5;124m\"\u001b[39m) \u001b[38;5;28;01melse\u001b[39;00m line,\n\u001b[0;32m    980\u001b[0m     fail_on_error\u001b[38;5;241m=\u001b[39m\u001b[38;5;28;01mTrue\u001b[39;00m)\n\u001b[0;32m    981\u001b[0m \u001b[38;5;28mdict\u001b[39m\u001b[38;5;241m.\u001b[39mupdate(rcParamsDefault, rcsetup\u001b[38;5;241m.\u001b[39m_hardcoded_defaults)\n\u001b[0;32m    982\u001b[0m \u001b[38;5;66;03m# Normally, the default matplotlibrc file contains *no* entry for backend (the\u001b[39;00m\n\u001b[0;32m    983\u001b[0m \u001b[38;5;66;03m# corresponding line starts with ##, not #; we fill on _auto_backend_sentinel\u001b[39;00m\n\u001b[0;32m    984\u001b[0m \u001b[38;5;66;03m# in that case.  However, packagers can set a different default backend\u001b[39;00m\n\u001b[0;32m    985\u001b[0m \u001b[38;5;66;03m# (resulting in a normal `#backend: foo` line) in which case we should *not*\u001b[39;00m\n\u001b[0;32m    986\u001b[0m \u001b[38;5;66;03m# fill in _auto_backend_sentinel.\u001b[39;00m\n",
      "File \u001b[1;32m~\\AppData\\Local\\Packages\\PythonSoftwareFoundation.Python.3.11_qbz5n2kfra8p0\\LocalCache\\local-packages\\Python311\\site-packages\\matplotlib\\cbook.py:545\u001b[0m, in \u001b[0;36m_get_data_path\u001b[1;34m(*args)\u001b[0m\n\u001b[0;32m    539\u001b[0m \u001b[38;5;28;01mdef\u001b[39;00m \u001b[38;5;21m_get_data_path\u001b[39m(\u001b[38;5;241m*\u001b[39margs):\n\u001b[0;32m    540\u001b[0m \u001b[38;5;250m    \u001b[39m\u001b[38;5;124;03m\"\"\"\u001b[39;00m\n\u001b[0;32m    541\u001b[0m \u001b[38;5;124;03m    Return the `pathlib.Path` to a resource file provided by Matplotlib.\u001b[39;00m\n\u001b[0;32m    542\u001b[0m \n\u001b[0;32m    543\u001b[0m \u001b[38;5;124;03m    ``*args`` specify a path relative to the base data path.\u001b[39;00m\n\u001b[0;32m    544\u001b[0m \u001b[38;5;124;03m    \"\"\"\u001b[39;00m\n\u001b[1;32m--> 545\u001b[0m     \u001b[38;5;28;01mreturn\u001b[39;00m Path(\u001b[43mmatplotlib\u001b[49m\u001b[38;5;241;43m.\u001b[39;49m\u001b[43mget_data_path\u001b[49m(), \u001b[38;5;241m*\u001b[39margs)\n",
      "\u001b[1;31mAttributeError\u001b[0m: module 'matplotlib' has no attribute 'get_data_path'"
     ]
    }
   ],
   "source": [
    "#the two colapsed things are code that they gave me\n",
    "import time \n",
    "import sys\n",
    "import numpy as np \n",
    "\n",
    "import matplotlib.pyplot as plt\n",
    "def Plotvec2(a,b):\n",
    "    ax = plt.axes()# to generate the full window axes\n",
    "    ax.arrow(0, 0, *a, head_width=0.05, color ='r', head_length=0.1)#Add an arrow to the  a Axes with arrow head width 0.05, color red and arrow head length 0.1\n",
    "    plt.text(*(a + 0.1), 'a')\n",
    "    ax.arrow(0, 0, *b, head_width=0.05, color ='b', head_length=0.1)#Add an arrow to the  b Axes with arrow head width 0.05, color blue and arrow head length 0.1\n",
    "    plt.text(*(b + 0.1), 'b')\n",
    "    plt.ylim(-2, 2)#set the ylim to bottom(-2), top(2)\n",
    "    plt.xlim(-2, 2)#set the xlim to left(-2), right(2)\n",
    "\n",
    "\n",
    "#Convert the list [-1, 1] and [1, 1] to numpy arrays a and b. Then, plot the arrays as vectors using the fuction Plotvec2 and find their dot product:\n",
    "\n",
    "a=np.array([-1,1])\n",
    "b = np.array([1,1])\n",
    "\n",
    "Plotvec2(a,b)\n",
    "\n",
    "np.dot(a,b)\n",
    "#ran into an error trying to get it to graph\n",
    "#Convert the list [1, 0] and [0, 1] to numpy arrays a and b. Then, plot the arrays as vectors using the function Plotvec2 and find their dot product:\n",
    "\n",
    "a2 = np.array([1,0])\n",
    "b2 = np.array([0,2])\n",
    "\n",
    "np.dot(a2,b2)\n",
    "#Still geting the graphing error AttributeError: module 'matplotlib' has no attribute 'get_data_path' there is also another one but there seems to be a problem with there function. \n",
    "\n",
    "\n",
    "\n",
    "\n",
    "\n",
    "\n"
   ]
  },
  {
   "cell_type": "code",
   "execution_count": 15,
   "metadata": {},
   "outputs": [
    {
     "name": "stdout",
     "output_type": "stream",
     "text": [
      "[ 9 11 13]\n",
      "[-7 -7 -7]\n",
      "[ 8 18 30]\n",
      "[0.125      0.22222222 0.3       ] i actuly like this one more\n",
      "56\n"
     ]
    }
   ],
   "source": [
    "\n",
    "#Convert the list [1, 2, 3] and [8, 9, 10] to numpy arrays arr1 and arr2. Then perform Addition , Subtraction , Multiplication ,\n",
    "# Division and Dot Operation on the arr1 and arr2.\n",
    "\n",
    "arr1 = np.array([1, 2, 3])\n",
    "arr2 = np.array([8, 9, 10])\n",
    "\n",
    "added = np.add(arr1, arr2)\n",
    "print(added)\n",
    "\n",
    "subed = np.subtract(arr1, arr2)\n",
    "print(subed)\n",
    "\n",
    "edsheran = np.multiply(arr1, arr2)\n",
    "print(edsheran)\n",
    "\n",
    "\n",
    "TheOtherEdSheranAlbumb= np.divide(arr1, arr2)\n",
    "print(TheOtherEdSheranAlbumb, \"i actuly like this one more\")\n",
    "\n",
    "Dotthei = np.dot(arr1, arr2)\n",
    "print(Dotthei)\n",
    "\n",
    "\n"
   ]
  },
  {
   "cell_type": "code",
   "execution_count": 22,
   "metadata": {},
   "outputs": [
    {
     "name": "stdout",
     "output_type": "stream",
     "text": [
      "for arr1 ('odds:', [1, 3, 5], 'evens', [2, 4])\n",
      "for arr2 ('odds:', [7, 9], 'evens', [6, 8, 10])\n"
     ]
    }
   ],
   "source": [
    "#Convert the list [1, 2, 3, 4, 5] and [6, 7, 8, 9, 10] to numpy arrays arr1 and arr2. Then find the even and odd numbers from arr1 and arr2.\n",
    "\n",
    "arr1 = np.array([1, 2, 3, 4, 5])\n",
    "arr2 = np.array([6, 7, 8, 9, 10])\n",
    "\n",
    "def odd(arr):\n",
    "    i = 0\n",
    "    odds = []\n",
    "    even = []\n",
    "    for i in arr:\n",
    "        #we can do the below cus there will be a remander of one for the odd ones and that == true in computer lengo \n",
    "        if i % 2:\n",
    "            odds.append(i)\n",
    "        else:\n",
    "            even.append(i)\n",
    "\n",
    "    return(\"odds:\", odds, \"evens\", even)\n",
    "print(\"for arr1\",odd(arr1))\n",
    "print(\"for arr2\",odd(arr2))"
   ]
  },
  {
   "cell_type": "code",
   "execution_count": null,
   "metadata": {},
   "outputs": [],
   "source": []
  }
 ],
 "metadata": {
  "kernelspec": {
   "display_name": "Python 3",
   "language": "python",
   "name": "python3"
  },
  "language_info": {
   "codemirror_mode": {
    "name": "ipython",
    "version": 3
   },
   "file_extension": ".py",
   "mimetype": "text/x-python",
   "name": "python",
   "nbconvert_exporter": "python",
   "pygments_lexer": "ipython3",
   "version": "3.11.9"
  }
 },
 "nbformat": 4,
 "nbformat_minor": 2
}
