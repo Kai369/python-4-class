{
 "cells": [
  {
   "cell_type": "markdown",
   "metadata": {},
   "source": [
    "This is my final project.\n",
    "The goal is to take a table of data on a lot of contrys and use it to predict a countrys co2 output at a given time. \n"
   ]
  },
  {
   "cell_type": "code",
   "execution_count": 156,
   "metadata": {},
   "outputs": [
    {
     "data": {
      "text/html": [
       "<div>\n",
       "<style scoped>\n",
       "    .dataframe tbody tr th:only-of-type {\n",
       "        vertical-align: middle;\n",
       "    }\n",
       "\n",
       "    .dataframe tbody tr th {\n",
       "        vertical-align: top;\n",
       "    }\n",
       "\n",
       "    .dataframe thead th {\n",
       "        text-align: right;\n",
       "    }\n",
       "</style>\n",
       "<table border=\"1\" class=\"dataframe\">\n",
       "  <thead>\n",
       "    <tr style=\"text-align: right;\">\n",
       "      <th></th>\n",
       "      <th>Unnamed: 0</th>\n",
       "      <th>Country</th>\n",
       "      <th>Energy_type</th>\n",
       "      <th>Year</th>\n",
       "      <th>Energy_consumption</th>\n",
       "      <th>Energy_production</th>\n",
       "      <th>GDP</th>\n",
       "      <th>Population</th>\n",
       "      <th>Energy_intensity_per_capita</th>\n",
       "      <th>Energy_intensity_by_GDP</th>\n",
       "      <th>CO2_emission</th>\n",
       "    </tr>\n",
       "  </thead>\n",
       "  <tbody>\n",
       "    <tr>\n",
       "      <th>0</th>\n",
       "      <td>0</td>\n",
       "      <td>World</td>\n",
       "      <td>all_energy_types</td>\n",
       "      <td>1980</td>\n",
       "      <td>292.899790</td>\n",
       "      <td>296.337228</td>\n",
       "      <td>27770.910281</td>\n",
       "      <td>4.298127e+06</td>\n",
       "      <td>68.145921</td>\n",
       "      <td>10.547</td>\n",
       "      <td>4946.627130</td>\n",
       "    </tr>\n",
       "    <tr>\n",
       "      <th>1</th>\n",
       "      <td>1</td>\n",
       "      <td>World</td>\n",
       "      <td>coal</td>\n",
       "      <td>1980</td>\n",
       "      <td>78.656134</td>\n",
       "      <td>80.114194</td>\n",
       "      <td>27770.910281</td>\n",
       "      <td>4.298127e+06</td>\n",
       "      <td>68.145921</td>\n",
       "      <td>10.547</td>\n",
       "      <td>1409.790188</td>\n",
       "    </tr>\n",
       "    <tr>\n",
       "      <th>2</th>\n",
       "      <td>2</td>\n",
       "      <td>World</td>\n",
       "      <td>natural_gas</td>\n",
       "      <td>1980</td>\n",
       "      <td>53.865223</td>\n",
       "      <td>54.761046</td>\n",
       "      <td>27770.910281</td>\n",
       "      <td>4.298127e+06</td>\n",
       "      <td>68.145921</td>\n",
       "      <td>10.547</td>\n",
       "      <td>1081.593377</td>\n",
       "    </tr>\n",
       "    <tr>\n",
       "      <th>3</th>\n",
       "      <td>3</td>\n",
       "      <td>World</td>\n",
       "      <td>petroleum_n_other_liquids</td>\n",
       "      <td>1980</td>\n",
       "      <td>132.064019</td>\n",
       "      <td>133.111109</td>\n",
       "      <td>27770.910281</td>\n",
       "      <td>4.298127e+06</td>\n",
       "      <td>68.145921</td>\n",
       "      <td>10.547</td>\n",
       "      <td>2455.243565</td>\n",
       "    </tr>\n",
       "    <tr>\n",
       "      <th>4</th>\n",
       "      <td>4</td>\n",
       "      <td>World</td>\n",
       "      <td>nuclear</td>\n",
       "      <td>1980</td>\n",
       "      <td>7.575700</td>\n",
       "      <td>7.575700</td>\n",
       "      <td>27770.910281</td>\n",
       "      <td>4.298127e+06</td>\n",
       "      <td>68.145921</td>\n",
       "      <td>10.547</td>\n",
       "      <td>0.000000</td>\n",
       "    </tr>\n",
       "    <tr>\n",
       "      <th>5</th>\n",
       "      <td>5</td>\n",
       "      <td>World</td>\n",
       "      <td>renewables_n_other</td>\n",
       "      <td>1980</td>\n",
       "      <td>20.702344</td>\n",
       "      <td>20.775178</td>\n",
       "      <td>27770.910281</td>\n",
       "      <td>4.298127e+06</td>\n",
       "      <td>68.145921</td>\n",
       "      <td>10.547</td>\n",
       "      <td>0.000000</td>\n",
       "    </tr>\n",
       "    <tr>\n",
       "      <th>6</th>\n",
       "      <td>6</td>\n",
       "      <td>Afghanistan</td>\n",
       "      <td>all_energy_types</td>\n",
       "      <td>1980</td>\n",
       "      <td>0.026583</td>\n",
       "      <td>0.072561</td>\n",
       "      <td>NaN</td>\n",
       "      <td>1.335650e+04</td>\n",
       "      <td>1.990283</td>\n",
       "      <td>0.000</td>\n",
       "      <td>NaN</td>\n",
       "    </tr>\n",
       "  </tbody>\n",
       "</table>\n",
       "</div>"
      ],
      "text/plain": [
       "   Unnamed: 0      Country                Energy_type  Year  \\\n",
       "0           0        World           all_energy_types  1980   \n",
       "1           1        World                       coal  1980   \n",
       "2           2        World                natural_gas  1980   \n",
       "3           3        World  petroleum_n_other_liquids  1980   \n",
       "4           4        World                    nuclear  1980   \n",
       "5           5        World         renewables_n_other  1980   \n",
       "6           6  Afghanistan           all_energy_types  1980   \n",
       "\n",
       "   Energy_consumption  Energy_production           GDP    Population  \\\n",
       "0          292.899790         296.337228  27770.910281  4.298127e+06   \n",
       "1           78.656134          80.114194  27770.910281  4.298127e+06   \n",
       "2           53.865223          54.761046  27770.910281  4.298127e+06   \n",
       "3          132.064019         133.111109  27770.910281  4.298127e+06   \n",
       "4            7.575700           7.575700  27770.910281  4.298127e+06   \n",
       "5           20.702344          20.775178  27770.910281  4.298127e+06   \n",
       "6            0.026583           0.072561           NaN  1.335650e+04   \n",
       "\n",
       "   Energy_intensity_per_capita  Energy_intensity_by_GDP  CO2_emission  \n",
       "0                    68.145921                   10.547   4946.627130  \n",
       "1                    68.145921                   10.547   1409.790188  \n",
       "2                    68.145921                   10.547   1081.593377  \n",
       "3                    68.145921                   10.547   2455.243565  \n",
       "4                    68.145921                   10.547      0.000000  \n",
       "5                    68.145921                   10.547      0.000000  \n",
       "6                     1.990283                    0.000           NaN  "
      ]
     },
     "execution_count": 156,
     "metadata": {},
     "output_type": "execute_result"
    }
   ],
   "source": [
    "import matplotlib.pyplot as plt\n",
    "import pandas as pd\n",
    "\n",
    "import numpy as np\n",
    "from sklearn import linear_model\n",
    "from sklearn.preprocessing import StandardScaler\n",
    "from sklearn.metrics import mean_squared_error\n",
    "from sklearn.metrics import r2_score\n",
    "DF = pd.read_csv(\"energy.csv\")\n",
    "DF.head(7)\n"
   ]
  },
  {
   "cell_type": "markdown",
   "metadata": {},
   "source": [
    "So im going to creat a model that takes the Energg type, year, gdp population and trys to predict the Energy consumption. "
   ]
  },
  {
   "cell_type": "markdown",
   "metadata": {},
   "source": []
  },
  {
   "cell_type": "code",
   "execution_count": 157,
   "metadata": {},
   "outputs": [
    {
     "name": "stdout",
     "output_type": "stream",
     "text": [
      "[55440, 11]\n",
      "<class 'int'>\n"
     ]
    }
   ],
   "source": [
    "tolist = DF.shape\n",
    "DFlist = list(tolist)\n",
    "print(DFlist)\n",
    "rowsofdata = DFlist[0]\n",
    "print(type(rowsofdata))"
   ]
  },
  {
   "cell_type": "code",
   "execution_count": null,
   "metadata": {},
   "outputs": [],
   "source": []
  },
  {
   "cell_type": "code",
   "execution_count": 158,
   "metadata": {},
   "outputs": [
    {
     "data": {
      "text/html": [
       "<div>\n",
       "<style scoped>\n",
       "    .dataframe tbody tr th:only-of-type {\n",
       "        vertical-align: middle;\n",
       "    }\n",
       "\n",
       "    .dataframe tbody tr th {\n",
       "        vertical-align: top;\n",
       "    }\n",
       "\n",
       "    .dataframe thead th {\n",
       "        text-align: right;\n",
       "    }\n",
       "</style>\n",
       "<table border=\"1\" class=\"dataframe\">\n",
       "  <thead>\n",
       "    <tr style=\"text-align: right;\">\n",
       "      <th></th>\n",
       "      <th>Country</th>\n",
       "      <th>Energy_type</th>\n",
       "      <th>Year</th>\n",
       "      <th>Energy_consumption</th>\n",
       "      <th>GDP</th>\n",
       "      <th>Population</th>\n",
       "    </tr>\n",
       "  </thead>\n",
       "  <tbody>\n",
       "    <tr>\n",
       "      <th>0</th>\n",
       "      <td>World</td>\n",
       "      <td>all_energy_types</td>\n",
       "      <td>1980</td>\n",
       "      <td>292.899790</td>\n",
       "      <td>27770.910281</td>\n",
       "      <td>4.298127e+06</td>\n",
       "    </tr>\n",
       "    <tr>\n",
       "      <th>6</th>\n",
       "      <td>Afghanistan</td>\n",
       "      <td>all_energy_types</td>\n",
       "      <td>1980</td>\n",
       "      <td>0.026583</td>\n",
       "      <td>NaN</td>\n",
       "      <td>1.335650e+04</td>\n",
       "    </tr>\n",
       "    <tr>\n",
       "      <th>12</th>\n",
       "      <td>Albania</td>\n",
       "      <td>all_energy_types</td>\n",
       "      <td>1980</td>\n",
       "      <td>0.162982</td>\n",
       "      <td>NaN</td>\n",
       "      <td>2.682700e+03</td>\n",
       "    </tr>\n",
       "    <tr>\n",
       "      <th>18</th>\n",
       "      <td>Algeria</td>\n",
       "      <td>all_energy_types</td>\n",
       "      <td>1980</td>\n",
       "      <td>0.780695</td>\n",
       "      <td>NaN</td>\n",
       "      <td>1.922170e+04</td>\n",
       "    </tr>\n",
       "    <tr>\n",
       "      <th>24</th>\n",
       "      <td>American Samoa</td>\n",
       "      <td>all_energy_types</td>\n",
       "      <td>1980</td>\n",
       "      <td>0.005893</td>\n",
       "      <td>NaN</td>\n",
       "      <td>3.264600e+01</td>\n",
       "    </tr>\n",
       "    <tr>\n",
       "      <th>...</th>\n",
       "      <td>...</td>\n",
       "      <td>...</td>\n",
       "      <td>...</td>\n",
       "      <td>...</td>\n",
       "      <td>...</td>\n",
       "      <td>...</td>\n",
       "    </tr>\n",
       "    <tr>\n",
       "      <th>55410</th>\n",
       "      <td>Wake Island</td>\n",
       "      <td>all_energy_types</td>\n",
       "      <td>2019</td>\n",
       "      <td>0.019436</td>\n",
       "      <td>NaN</td>\n",
       "      <td>NaN</td>\n",
       "    </tr>\n",
       "    <tr>\n",
       "      <th>55416</th>\n",
       "      <td>Western Sahara</td>\n",
       "      <td>all_energy_types</td>\n",
       "      <td>2019</td>\n",
       "      <td>0.003712</td>\n",
       "      <td>NaN</td>\n",
       "      <td>NaN</td>\n",
       "    </tr>\n",
       "    <tr>\n",
       "      <th>55422</th>\n",
       "      <td>Yemen</td>\n",
       "      <td>all_energy_types</td>\n",
       "      <td>2019</td>\n",
       "      <td>0.159020</td>\n",
       "      <td>53.083800</td>\n",
       "      <td>2.916220e+04</td>\n",
       "    </tr>\n",
       "    <tr>\n",
       "      <th>55428</th>\n",
       "      <td>Zambia</td>\n",
       "      <td>all_energy_types</td>\n",
       "      <td>2019</td>\n",
       "      <td>0.207097</td>\n",
       "      <td>247.181900</td>\n",
       "      <td>1.787385e+04</td>\n",
       "    </tr>\n",
       "    <tr>\n",
       "      <th>55434</th>\n",
       "      <td>Zimbabwe</td>\n",
       "      <td>all_energy_types</td>\n",
       "      <td>2019</td>\n",
       "      <td>0.168651</td>\n",
       "      <td>37.620400</td>\n",
       "      <td>1.465420e+04</td>\n",
       "    </tr>\n",
       "  </tbody>\n",
       "</table>\n",
       "<p>9240 rows × 6 columns</p>\n",
       "</div>"
      ],
      "text/plain": [
       "              Country       Energy_type  Year  Energy_consumption  \\\n",
       "0               World  all_energy_types  1980          292.899790   \n",
       "6         Afghanistan  all_energy_types  1980            0.026583   \n",
       "12            Albania  all_energy_types  1980            0.162982   \n",
       "18            Algeria  all_energy_types  1980            0.780695   \n",
       "24     American Samoa  all_energy_types  1980            0.005893   \n",
       "...               ...               ...   ...                 ...   \n",
       "55410     Wake Island  all_energy_types  2019            0.019436   \n",
       "55416  Western Sahara  all_energy_types  2019            0.003712   \n",
       "55422           Yemen  all_energy_types  2019            0.159020   \n",
       "55428          Zambia  all_energy_types  2019            0.207097   \n",
       "55434        Zimbabwe  all_energy_types  2019            0.168651   \n",
       "\n",
       "                GDP    Population  \n",
       "0      27770.910281  4.298127e+06  \n",
       "6               NaN  1.335650e+04  \n",
       "12              NaN  2.682700e+03  \n",
       "18              NaN  1.922170e+04  \n",
       "24              NaN  3.264600e+01  \n",
       "...             ...           ...  \n",
       "55410           NaN           NaN  \n",
       "55416           NaN           NaN  \n",
       "55422     53.083800  2.916220e+04  \n",
       "55428    247.181900  1.787385e+04  \n",
       "55434     37.620400  1.465420e+04  \n",
       "\n",
       "[9240 rows x 6 columns]"
      ]
     },
     "execution_count": 158,
     "metadata": {},
     "output_type": "execute_result"
    }
   ],
   "source": [
    "#cleaning data as we only need some data\n",
    "\n",
    "CDF = DF[[\"Country\", \"Energy_type\",\"Year\",\t\"Energy_consumption\",\t\"GDP\",\t\"Population\"]]\n",
    "\n",
    "#removing all non genral energy types\n",
    "CDF = CDF[(CDF['Energy_type'] == 'all_energy_types')]\n",
    "#removing all rows with \"NaN\"\n",
    "\n",
    "CDF.head(rowsofdata)\n"
   ]
  },
  {
   "cell_type": "markdown",
   "metadata": {},
   "source": [
    "So now we have taken ought all the data that is about spisific energy types, and all the data that has a null value\n",
    "Next im removing the column Energyt type"
   ]
  },
  {
   "cell_type": "code",
   "execution_count": 159,
   "metadata": {},
   "outputs": [],
   "source": [
    "ToDropDF = CDF[[\"Year\",\t\"Energy_consumption\",\t\"GDP\",\t\"Population\"]]\n"
   ]
  },
  {
   "cell_type": "code",
   "execution_count": null,
   "metadata": {},
   "outputs": [],
   "source": [
    "\n"
   ]
  },
  {
   "cell_type": "code",
   "execution_count": 160,
   "metadata": {},
   "outputs": [],
   "source": [
    "FinalDF = ToDropDF.dropna()\n"
   ]
  },
  {
   "cell_type": "code",
   "execution_count": 161,
   "metadata": {},
   "outputs": [],
   "source": [
    "FinalDFX = FinalDF[[\"Year\",\"GDP\",\"Population\"]]\n",
    "FinalDFy = FinalDF[[\"Energy_consumption\"]]"
   ]
  },
  {
   "cell_type": "code",
   "execution_count": 162,
   "metadata": {},
   "outputs": [],
   "source": [
    "msk = np.random.rand(len(FinalDF)) < 0.8\n",
    "trainX = FinalDFX[msk]\n",
    "testX = FinalDFX[~msk]\n",
    "trainy = FinalDFy[msk]\n",
    "testy = FinalDFy[~msk]\n"
   ]
  },
  {
   "cell_type": "code",
   "execution_count": 163,
   "metadata": {},
   "outputs": [],
   "source": [
    "# Standardize the features and target variable\n",
    "SScalX = StandardScaler()\n",
    "#you NEED a difrent scale for the x and y \n",
    "SScaly = StandardScaler()\n",
    "\n",
    "trainX = SScalX.fit_transform(trainX)\n",
    "testX = SScalX.transform(testX)\n",
    "#messing w the dementions \n",
    "trainy = SScaly.fit_transform(trainy.values.reshape(-1, 1))\n",
    "testy = SScaly.transform(testy.values.reshape(-1, 1))"
   ]
  },
  {
   "cell_type": "code",
   "execution_count": 164,
   "metadata": {},
   "outputs": [],
   "source": [
    "\n",
    "\n",
    "regr = linear_model.LinearRegression()\n",
    "\n"
   ]
  },
  {
   "cell_type": "code",
   "execution_count": 165,
   "metadata": {},
   "outputs": [
    {
     "name": "stdout",
     "output_type": "stream",
     "text": [
      "Coefficients:  [[-0.00989266  0.63538377  0.36636941]]\n",
      "-0.009892663275873204\n",
      "0.6353837674822833\n",
      "0.36636940611574054\n",
      "Intercept: [-1.51694085e-17]\n"
     ]
    }
   ],
   "source": [
    "#fit the data\n",
    "\n",
    "regr.fit (trainX, trainy)\n",
    "# The coefficients\n",
    "coefficients = regr.coef_\n",
    "print ('Coefficients: ', coefficients)\n",
    "YearCo = coefficients[0][0]\n",
    "print(YearCo)\n",
    "GDPCo = coefficients[0][1]\n",
    "\n",
    "print(GDPCo)\n",
    "PopulationCo = float(coefficients[0][2])\n",
    "print(PopulationCo)\n",
    "#the y intercept \n",
    "intercept = regr.intercept_\n",
    "print('Intercept:',intercept)\n"
   ]
  },
  {
   "cell_type": "markdown",
   "metadata": {},
   "source": [
    "Scoring it"
   ]
  },
  {
   "cell_type": "code",
   "execution_count": 166,
   "metadata": {},
   "outputs": [],
   "source": [
    "\n",
    "#We are predicting for both so we can see in sample and out of sample(the testing data). \n",
    "yHatTrain = regr.predict(trainX)\n",
    "yHatTest = regr.predict(testX)\n",
    "\n",
    "# now we have to un Scale it to get the numbers back to where they are meaningfull \n",
    "trainyPred = SScaly.inverse_transform(yHatTrain)\n",
    "testyPred = SScaly.inverse_transform(yHatTest)\n",
    "\n",
    "#we have to do this to the known data too because it was also scaled for the sake of Scaling \n",
    "trainyOrig = SScaly.inverse_transform(trainy)\n",
    "testyOrig = SScaly.inverse_transform(testy)\n",
    "\n"
   ]
  },
  {
   "cell_type": "markdown",
   "metadata": {},
   "source": [
    "now lets see how good our model is!"
   ]
  },
  {
   "cell_type": "code",
   "execution_count": 167,
   "metadata": {},
   "outputs": [
    {
     "name": "stdout",
     "output_type": "stream",
     "text": [
      "MSE within the train set: 25.16686221041884\n",
      "MSE with in the test set: 36.04238395140192\n",
      "Train R^2 Score: 0.9774754956115645\n",
      "Test R^2 Score: 0.9778773361074969\n"
     ]
    }
   ],
   "source": [
    "#Geting MSE for in sample and out of smaple \n",
    "mseTrain = mean_squared_error(trainyOrig, trainyPred)\n",
    "mseTest = mean_squared_error(testyOrig , testyPred)\n",
    "#same thing for R^2\n",
    "r2Train = r2_score(trainyOrig,trainyPred)\n",
    "r2Test = r2_score(testyOrig, testyPred)\n",
    "\n",
    "print(\"MSE within the train set:\", mseTrain)\n",
    "print(\"MSE with in the test set:\", mseTest)\n",
    "print(\"Train R^2 Score:\", r2Train)\n",
    "print(\"Test R^2 Score:\", r2Test)"
   ]
  },
  {
   "cell_type": "markdown",
   "metadata": {},
   "source": [
    "Now lets plot insample acuracy VS out of sample acuracy "
   ]
  },
  {
   "cell_type": "code",
   "execution_count": 168,
   "metadata": {},
   "outputs": [
    {
     "data": {
      "image/png": "[encoded data removed]",
      "text/plain": [
       "<Figure size 700x700 with 1 Axes>"
      ]
     },
     "metadata": {},
     "output_type": "display_data"
    }
   ],
   "source": [
    "# Plotting the results\n",
    "plt.figure(figsize=(7,7))\n",
    "\n",
    "# Plotting insample results\n",
    "plt.scatter(trainyOrig, trainyPred, color='blue')\n",
    "#k-- makes for a pretter dashed line\n",
    "plt.plot([trainyOrig.min(), trainyOrig.max()], [trainyOrig.min(), trainyOrig.max()], 'k--', lw=3)\n",
    "plt.xlabel('Actual Energy Consumption')\n",
    "plt.ylabel('Predicted Energy Consumption')\n",
    "plt.title('Insample')\n",
    "\n",
    "\n",
    "plt.show()\n"
   ]
  },
  {
   "cell_type": "code",
   "execution_count": 169,
   "metadata": {},
   "outputs": [
    {
     "data": {
      "image/png": "[encoded data removed]",
      "text/plain": [
       "<Figure size 700x700 with 1 Axes>"
      ]
     },
     "metadata": {},
     "output_type": "display_data"
    }
   ],
   "source": [
    "plt.figure(figsize=(7, 7))\n",
    "\n",
    "# Plotting out of sample results\n",
    "plt.scatter(testyOrig, testyPred, color='red')\n",
    "plt.plot([testyOrig.min(), testyOrig.max()], [testyOrig.min(), testyOrig.max()], 'k--', lw=3)\n",
    "plt.xlabel('Actual Energy Consumption')\n",
    "plt.ylabel('Predicted Energy Consumption')\n",
    "plt.title('Out of Sample')\n",
    "\n",
    "\n",
    "plt.show()\n"
   ]
  },
  {
   "cell_type": "code",
   "execution_count": 170,
   "metadata": {},
   "outputs": [
    {
     "name": "stdout",
     "output_type": "stream",
     "text": [
      "Predicted Energy Consumption is: 59.44951999356394 Quads\n"
     ]
    },
    {
     "name": "stderr",
     "output_type": "stream",
     "text": [
      "C:\\Users\\kaica\\AppData\\Local\\Packages\\PythonSoftwareFoundation.Python.3.11_qbz5n2kfra8p0\\LocalCache\\local-packages\\Python311\\site-packages\\sklearn\\base.py:493: UserWarning: X does not have valid feature names, but StandardScaler was fitted with feature names\n",
      "  warnings.warn(\n"
     ]
    }
   ],
   "source": [
    "# Function to predict energy consumption based on user input\n",
    "def predict_energy_consumption(year, gdp, population):\n",
    "    # Prepare the input data\n",
    "    input_data = np.array([[year, gdp, population]])\n",
    "   \n",
    "    input_data_scaled = SScalX.transform(input_data)\n",
    "    \n",
    "    # Make prediction\n",
    "    prediction_scaled = regr.predict(input_data_scaled)\n",
    "    prediction = SScaly.inverse_transform(prediction_scaled)\n",
    "    \n",
    "    return prediction[0][0]\n",
    "\n",
    "# User input for new data\n",
    "year_input = float(input(\"Enter the year: \"))\n",
    "gdp_input = float(input(\"Enter the GDP: \"))\n",
    "population_input = float(input(\"Enter the population: \"))\n",
    "\n",
    "# Predict energy consumption based on user input\n",
    "predicted_energy = predict_energy_consumption(year_input, gdp_input, population_input)\n",
    "print(\"Predicted Energy Consumption is:\",predicted_energy, \"Quads\")"
   ]
  },
  {
   "cell_type": "code",
   "execution_count": null,
   "metadata": {},
   "outputs": [],
   "source": []
  },
  {
   "cell_type": "markdown",
   "metadata": {},
   "source": [
    "United States,all_energy_types,\n",
    "year  = 1,\n",
    "consumption  = 78.0211\n",
    "\n",
    "gdp = 7080.75,\n",
    "pop  = 227119000,"
   ]
  },
  {
   "cell_type": "markdown",
   "metadata": {},
   "source": []
  },
  {
   "cell_type": "markdown",
   "metadata": {},
   "source": [
    "so now we have to know how to use the model. \n"
   ]
  }
 ],
 "metadata": {
  "kernelspec": {
   "display_name": "Python 3",
   "language": "python",
   "name": "python3"
  },
  "language_info": {
   "codemirror_mode": {
    "name": "ipython",
    "version": 3
   },
   "file_extension": ".py",
   "mimetype": "text/x-python",
   "name": "python",
   "nbconvert_exporter": "python",
   "pygments_lexer": "ipython3",
   "version": "3.11.9"
  }
 },
 "nbformat": 4,
 "nbformat_minor": 2
}
