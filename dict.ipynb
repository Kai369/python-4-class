{
 "cells": [
  {
   "cell_type": "code",
   "execution_count": 4,
   "metadata": {},
   "outputs": [
    {
     "name": "stdout",
     "output_type": "stream",
     "text": [
      "65\n",
      "dict_keys(['The Bodyguard', 'Back in Black', 'Thriller'])\n",
      "dict_values([50, 50, 65])\n"
     ]
    }
   ],
   "source": [
    "# Question sample dictionary\n",
    "\n",
    "soundtrack_dic = {\"The Bodyguard\":\"1992\", \"Saturday Night Fever\":\"1977\"}\n",
    "soundtrack_dic \n",
    "#Q) In the dictionary soundtrack_dic what are the keys ?\n",
    "#A)\"the bodygaurd and saturdaynight fever\"\n",
    "#Q) what are the values?\n",
    "#A) \"1992\"& \"1977\"\n",
    "#Creat a dict with albums and sales\n",
    "album_sales_dict = {\"The Bodyguard\":50, \"Back in Black\":50, \"Thriller\":65}\n",
    "#find sales of thriller\n",
    "print(album_sales_dict[\"Thriller\"])\n",
    "#c) Find the names of the albums from the dictionary using the method keys():\n",
    "print(album_sales_dict.keys())\n",
    "#d) Find the values of the recording sales from the dictionary using the method <code>values</code>:\n",
    "print(album_sales_dict.values())\n",
    "\n"
   ]
  },
  {
   "cell_type": "code",
   "execution_count": 8,
   "metadata": {},
   "outputs": [
    {
     "name": "stdout",
     "output_type": "stream",
     "text": [
      "{'ProductNo1': 'Mobile Phone', 'ProductNo1_quantity': 5, 'ProductNo1_price': 20000, 'ProductNo1_releaseYear': 2020, 'ProductNo2': 'Laptop', 'ProductNo2_quantity': 10, 'ProductNo2_price': 50000, 'ProductNo2_releaseYear': 2023}\n",
      "They're both there\n"
     ]
    }
   ],
   "source": [
    "\n",
    "#Scenario:Inventory Store\n",
    "#Stariting w this \n",
    "ProductNo1 = \"Mobile Phone\"\n",
    "ProductNo1_quantity = 5\n",
    "ProductNo1_price = 20000\n",
    "ProductNo1_releaseYear= 2020\n",
    "#add them into a inventory dict\n",
    "\n",
    "Invent={\"ProductNo1\":\"Mobile Phone\",\"ProductNo1_quantity\": 5, \"ProductNo1_price\" : 20000, \"ProductNo1_releaseYear\": 2020}\n",
    "\n",
    "#add the folowing as a variable \n",
    "ProductNo2 = \"Laptop\"\n",
    "ProductNo2_quantity = 10\n",
    "ProductNo2_price = 50000\n",
    "ProductNo2_releaseYear= 2023\n",
    "\n",
    "#add to Invent\n",
    "\n",
    "Invent[\"ProductNo2\"]= \"Laptop\"\n",
    "Invent[\"ProductNo2_quantity\"] = 10\n",
    "Invent[\"ProductNo2_price\"] = 50000\n",
    "Invent[\"ProductNo2_releaseYear\"]= 2023\n",
    "#Display items precent in inventory \n",
    "\n",
    "print(Invent)\n",
    "#Check if these 2 items are in the list \n",
    "if \"ProductNo1_releaseYear\" in Invent and \"ProductNo2_releaseYear\" in Invent:\n",
    "    print(\"They're both there\")\n",
    "#deleet product one and two's relese dayte\n",
    "\n",
    "del(inventory[\"ProductNo1_releaseYear\"])\n",
    "del(inventory[\"ProductNo2_releaseYear\"])"
   ]
  },
  {
   "cell_type": "code",
   "execution_count": null,
   "metadata": {},
   "outputs": [],
   "source": []
  }
 ],
 "metadata": {
  "kernelspec": {
   "display_name": "Python 3",
   "language": "python",
   "name": "python3"
  },
  "language_info": {
   "codemirror_mode": {
    "name": "ipython",
    "version": 3
   },
   "file_extension": ".py",
   "mimetype": "text/x-python",
   "name": "python",
   "nbconvert_exporter": "python",
   "pygments_lexer": "ipython3",
   "version": "3.11.9"
  }
 },
 "nbformat": 4,
 "nbformat_minor": 2
}
